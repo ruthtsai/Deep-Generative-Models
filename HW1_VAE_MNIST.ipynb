{
  "nbformat": 4,
  "nbformat_minor": 0,
  "metadata": {
    "colab": {
      "provenance": [],
      "authorship_tag": "ABX9TyNekbM7Z6nZwb7E2WcqfSAf",
      "include_colab_link": true
    },
    "kernelspec": {
      "name": "python3",
      "display_name": "Python 3"
    },
    "language_info": {
      "name": "python"
    }
  },
  "cells": [
    {
      "cell_type": "markdown",
      "metadata": {
        "id": "view-in-github",
        "colab_type": "text"
      },
      "source": [
        "<a href=\"https://colab.research.google.com/github/ruthtsai/Deep-Generative-Models/blob/main/HW1_VAE_MNIST.ipynb\" target=\"_parent\"><img src=\"https://colab.research.google.com/assets/colab-badge.svg\" alt=\"Open In Colab\"/></a>"
      ]
    },
    {
      "cell_type": "code",
      "execution_count": 2,
      "metadata": {
        "colab": {
          "base_uri": "https://localhost:8080/",
          "height": 509
        },
        "id": "ZVs24Earo30_",
        "outputId": "3ec68201-ff32-4d08-8d0b-168968f19e9c"
      },
      "outputs": [
        {
          "output_type": "stream",
          "name": "stdout",
          "text": [
            "Epoch 1, Avg loss: 163.2017\n",
            "Epoch 2, Avg loss: 121.2507\n",
            "Epoch 3, Avg loss: 114.3694\n",
            "Epoch 4, Avg loss: 111.5121\n",
            "Epoch 5, Avg loss: 109.7923\n",
            "Epoch 6, Avg loss: 108.5827\n",
            "Epoch 7, Avg loss: 107.8067\n",
            "Epoch 8, Avg loss: 107.1402\n",
            "Epoch 9, Avg loss: 106.6274\n",
            "Epoch 10, Avg loss: 106.2357\n"
          ]
        },
        {
          "output_type": "display_data",
          "data": {
            "text/plain": [
              "<Figure size 1500x400 with 16 Axes>"
            ],
            "image/png": "[encoded data removed]"
          },
          "metadata": {}
        }
      ],
      "source": [
        "import torch\n",
        "import torch.nn as nn\n",
        "import torch.nn.functional as F\n",
        "import torch.optim as optim\n",
        "from torchvision import datasets, transforms\n",
        "from torch.utils.data import DataLoader\n",
        "import matplotlib.pyplot as plt\n",
        "\n",
        "# ========== 1. 參數設定 ==========\n",
        "batch_size = 128\n",
        "latent_dim = 20  # 潛在空間維度\n",
        "epochs = 10\n",
        "lr = 1e-3  # 學習率\n",
        "\n",
        "device = torch.device(\"cuda\" if torch.cuda.is_available() else \"cpu\")\n",
        "\n",
        "# ========== 2. 載入 MNIST 資料集 ==========\n",
        "transform = transforms.ToTensor()\n",
        "\n",
        "\n",
        "train_dataset = datasets.MNIST(root=\"./data\", train=True, transform=transform, download=True)\n",
        "test_dataset = datasets.MNIST(root=\"./data\", train=False, transform=transform, download=True)\n",
        "\n",
        "train_loader = DataLoader(train_dataset, batch_size=batch_size, shuffle=True)\n",
        "test_loader = DataLoader(test_dataset, batch_size=batch_size, shuffle=False)\n",
        "\n",
        "# ========== 3. 定義 VAE 模型 ==========\n",
        "class VAE(nn.Module):\n",
        "    def __init__(self):\n",
        "        super(VAE, self).__init__()\n",
        "        # 編碼器：784 -> 400 -> (mu, logvar)\n",
        "        self.fc1 = nn.Linear(28*28, 400)\n",
        "        self.fc_mu = nn.Linear(400, latent_dim)\n",
        "        self.fc_logvar = nn.Linear(400, latent_dim)\n",
        "\n",
        "        # 解碼器：latent -> 400 -> 784\n",
        "        self.fc2 = nn.Linear(latent_dim, 400)\n",
        "        self.fc3 = nn.Linear(400, 28*28)\n",
        "\n",
        "    def encode(self, x):\n",
        "        h = F.relu(self.fc1(x))\n",
        "        mu = self.fc_mu(h)\n",
        "        logvar = self.fc_logvar(h)\n",
        "        return mu, logvar\n",
        "\n",
        "    def reparameterize(self, mu, logvar):\n",
        "        # reparameterization trick\n",
        "        std = torch.exp(0.5*logvar)\n",
        "        eps = torch.randn_like(std)\n",
        "        return mu + eps*std\n",
        "\n",
        "    def decode(self, z):\n",
        "        h = F.relu(self.fc2(z))\n",
        "        return torch.sigmoid(self.fc3(h))\n",
        "\n",
        "    def forward(self, x):\n",
        "        mu, logvar = self.encode(x)\n",
        "        z = self.reparameterize(mu, logvar)\n",
        "        return self.decode(z), mu, logvar\n",
        "\n",
        "# ========== 4. 定義損失函數 ==========\n",
        "def loss_function(recon_x, x, mu, logvar):\n",
        "    # 重建誤差 (binary cross entropy)\n",
        "    BCE = F.binary_cross_entropy(recon_x, x, reduction='sum')\n",
        "\n",
        "    # KL divergence: 測量 q(z|x) 與 N(0,1) 的差距\n",
        "    KLD = -0.5 * torch.sum(1 + logvar - mu.pow(2) - logvar.exp())\n",
        "\n",
        "    return BCE + KLD\n",
        "\n",
        "# ========== 5. 訓練模型 ==========\n",
        "model = VAE().to(device)\n",
        "optimizer = optim.Adam(model.parameters(), lr=lr)\n",
        "\n",
        "model.train()\n",
        "for epoch in range(1, epochs+1):\n",
        "    train_loss = 0\n",
        "    for batch_idx, (data, _) in enumerate(train_loader):\n",
        "        data = data.view(-1, 28*28).to(device)\n",
        "        optimizer.zero_grad()\n",
        "        recon_batch, mu, logvar = model(data)\n",
        "        loss = loss_function(recon_batch, data, mu, logvar)\n",
        "        loss.backward()\n",
        "        train_loss += loss.item()\n",
        "        optimizer.step()\n",
        "\n",
        "    print(f\"Epoch {epoch}, Avg loss: {train_loss / len(train_loader.dataset):.4f}\")\n",
        "\n",
        "# ========== 6. 測試與重建結果 ==========\n",
        "model.eval()\n",
        "with torch.no_grad():\n",
        "    test_batch, _ = next(iter(test_loader))\n",
        "    test_batch = test_batch.view(-1, 28*28).to(device)\n",
        "    recon_batch, _, _ = model(test_batch)\n",
        "\n",
        "# 顯示原始與重建圖片\n",
        "n = 8\n",
        "plt.figure(figsize=(15, 4))\n",
        "for i in range(n):\n",
        "    # 原始圖片\n",
        "    ax = plt.subplot(2, n, i+1)\n",
        "    plt.imshow(test_batch[i].cpu().view(28, 28), cmap='gray')\n",
        "    plt.axis(\"off\")\n",
        "\n",
        "    # 重建圖片\n",
        "    ax = plt.subplot(2, n, i+1+n)\n",
        "    plt.imshow(recon_batch[i].cpu().view(28, 28), cmap='gray')\n",
        "    plt.axis(\"off\")\n",
        "plt.show()\n"
      ]
    }
  ]
}