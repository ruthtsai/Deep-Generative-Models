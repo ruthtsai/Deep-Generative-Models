{
  "nbformat": 4,
  "nbformat_minor": 0,
  "metadata": {
    "colab": {
      "provenance": [],
      "gpuType": "T4",
      "authorship_tag": "ABX9TyM365vFZCeZ3vz3N/o4R6y7",
      "include_colab_link": true
    },
    "kernelspec": {
      "name": "python3",
      "display_name": "Python 3"
    },
    "language_info": {
      "name": "python"
    },
    "accelerator": "GPU"
  },
  "cells": [
    {
      "cell_type": "markdown",
      "metadata": {
        "id": "view-in-github",
        "colab_type": "text"
      },
      "source": [
        "<a href=\"https://colab.research.google.com/github/ruthtsai/Deep-Generative-Models/blob/main/HW1_VAE_MNIST.ipynb\" target=\"_parent\"><img src=\"https://colab.research.google.com/assets/colab-badge.svg\" alt=\"Open In Colab\"/></a>"
      ]
    },
    {
      "cell_type": "markdown",
      "source": [
        "1. 準備環境與資料"
      ],
      "metadata": {
        "id": "i1LSiSuxwGLf"
      }
    },
    {
      "cell_type": "code",
      "execution_count": 16,
      "metadata": {
        "colab": {
          "base_uri": "https://localhost:8080/"
        },
        "id": "ZVs24Earo30_",
        "outputId": "09ddffb8-14e7-469c-c4ee-4ebfe478be1a"
      },
      "outputs": [
        {
          "output_type": "stream",
          "name": "stdout",
          "text": [
            "已存在: ./data/MNIST/raw/train-images-idx3-ubyte.gz\n",
            "已存在: ./data/MNIST/raw/train-labels-idx1-ubyte.gz\n",
            "已存在: ./data/MNIST/raw/t10k-images-idx3-ubyte.gz\n",
            "已存在: ./data/MNIST/raw/t10k-labels-idx1-ubyte.gz\n"
          ]
        }
      ],
      "source": [
        "import os\n",
        "import gzip\n",
        "import numpy as np\n",
        "import matplotlib.pyplot as plt\n",
        "import torch\n",
        "from torch import nn, optim\n",
        "from torch.utils.data import DataLoader, TensorDataset\n",
        "\n",
        "# 設定 OpenMP 環境變數以避免 KMP 警告/錯誤\n",
        "import os\n",
        "os.environ['KMP_DUPLICATE_LIB_OK'] = 'TRUE'\n",
        "\n",
        "\n",
        "# 建立資料目錄\n",
        "DATA_DIR = './data/MNIST/raw'\n",
        "os.makedirs(DATA_DIR, exist_ok=True)\n",
        "\n",
        "# 下載 MNIST 原始檔（mirror by fgnt）\n",
        "urls = {\n",
        "'train-images': 'https://raw.githubusercontent.com/fgnt/mnist/master/train-images-idx3-ubyte.gz',\n",
        "'train-labels': 'https://raw.githubusercontent.com/fgnt/mnist/master/train-labels-idx1-ubyte.gz',\n",
        "'t10k-images': 'https://raw.githubusercontent.com/fgnt/mnist/master/t10k-images-idx3-ubyte.gz',\n",
        "'t10k-labels': 'https://raw.githubusercontent.com/fgnt/mnist/master/t10k-labels-idx1-ubyte.gz'\n",
        "}\n",
        "\n",
        "\n",
        "# 下載函式\n",
        "def download_file(url, dest_path):\n",
        "  if os.path.exists(dest_path):\n",
        "    print(f\"已存在: {dest_path}\")\n",
        "    return\n",
        "  print(f\"下載: {url} -> {dest_path}\")\n",
        "  # 先用 wget\n",
        "  wget_cmd = f\"wget -q -O {dest_path} {url}\"\n",
        "  ret = os.system(wget_cmd)\n",
        "\n",
        "\n",
        "# 執行下載\n",
        "for name, url in urls.items():\n",
        "  dest = os.path.join(DATA_DIR, url.split('/')[-1])\n",
        "  download_file(url, dest)\n",
        "\n",
        "def load_mnist_images(filename):\n",
        "    path = os.path.join(DATA_DIR, filename)\n",
        "    with gzip.open(path, 'rb') as f:\n",
        "        data = np.frombuffer(f.read(), np.uint8, offset=16)\n",
        "        data = data.reshape(-1, 28*28) / 255.0\n",
        "        return data.astype(np.float32)\n",
        "\n",
        "def load_mnist_labels(filename):\n",
        "    path = os.path.join(DATA_DIR, filename)\n",
        "    with gzip.open(path, 'rb') as f:\n",
        "        data = np.frombuffer(f.read(), np.uint8, offset=8)\n",
        "        return data\n",
        "\n",
        "# 載入訓練和測試資料\n",
        "x_train = load_mnist_images('train-images-idx3-ubyte.gz')\n",
        "y_train = load_mnist_labels('train-labels-idx1-ubyte.gz')\n",
        "x_test = load_mnist_images('t10k-images-idx3-ubyte.gz')\n",
        "y_test = load_mnist_labels('t10k-labels-idx1-ubyte.gz')\n",
        "\n",
        "# 建立 DataLoader\n",
        "batch_size = 128\n",
        "train_loader = DataLoader(TensorDataset(torch.tensor(x_train), torch.tensor(y_train)),\n",
        "                          batch_size=batch_size, shuffle=True)\n",
        "test_loader = DataLoader(TensorDataset(torch.tensor(x_test), torch.tensor(y_test)),\n",
        "                         batch_size=batch_size, shuffle=False)"
      ]
    },
    {
      "cell_type": "markdown",
      "source": [
        "2. 模型設計 (VAE)"
      ],
      "metadata": {
        "id": "ctA2ObYJwZQj"
      }
    },
    {
      "cell_type": "code",
      "source": [
        "class VAE(nn.Module):\n",
        "  def __init__(self, input_dim=784, hidden_dim=400, latent_dim=20):\n",
        "    super(VAE, self).__init__()\n",
        "    # Encoder\n",
        "    self.fc1 = nn.Linear(input_dim, hidden_dim)\n",
        "    self.fc_mu = nn.Linear(hidden_dim, latent_dim)       # 均值\n",
        "    self.fc_logvar = nn.Linear(hidden_dim, latent_dim)   # 對數方差\n",
        "\n",
        "    # Decoder\n",
        "    self.fc3 = nn.Linear(latent_dim, hidden_dim)\n",
        "    self.fc4 = nn.Linear(hidden_dim, input_dim)\n",
        "\n",
        "    self.relu = nn.ReLU()\n",
        "    self.sigmoid = nn.Sigmoid()\n",
        "\n",
        "  def encode(self, x):\n",
        "    h = self.relu(self.fc1(x))\n",
        "    return self.fc_mu(h), self.fc_logvar(h)\n",
        "\n",
        "  def reparameterize(self, mu, logvar):\n",
        "    std = torch.exp(0.5*logvar)\n",
        "    eps = torch.randn_like(std)\n",
        "    return mu + eps*std\n",
        "\n",
        "  def decode(self, z):\n",
        "    h = self.relu(self.fc3(z))\n",
        "    return self.sigmoid(self.fc4(h))\n",
        "\n",
        "  def forward(self, x):\n",
        "    mu, logvar = self.encode(x)\n",
        "    z = self.reparameterize(mu, logvar)\n",
        "    recon_x = self.decode(z)\n",
        "    return recon_x, mu, logvar\n",
        "\n",
        "# 初始化模型與優化器\n",
        "device = torch.device('cuda' if torch.cuda.is_available() else 'cpu')\n",
        "model = VAE().to(device)\n",
        "optimizer = optim.Adam(model.parameters(), lr=1e-3)"
      ],
      "metadata": {
        "id": "x0qsXYyGwi8m"
      },
      "execution_count": 14,
      "outputs": []
    },
    {
      "cell_type": "markdown",
      "source": [
        "3. 訓練與測試：訓練設定與函數 測試重建與圖像顯示"
      ],
      "metadata": {
        "id": "VlCHjqNmxO3w"
      }
    },
    {
      "cell_type": "code",
      "source": [
        "device = torch.device('cuda' if torch.cuda.is_available() else 'cpu')\n",
        "model = VAE().to(device)\n",
        "optimizer = optim.Adam(model.parameters(), lr=1e-3)\n",
        "\n",
        "# 損失函數: BCE + KL divergence\n",
        "def loss_function(recon_x, x, mu, logvar):\n",
        "    # BCE loss + KL divergence\n",
        "    BCE = nn.functional.binary_cross_entropy(recon_x, x, reduction='sum')\n",
        "    KLD = -0.5 * torch.sum(1 + logvar - mu.pow(2) - logvar.exp())\n",
        "    return BCE + KLD\n",
        "\n",
        "# 訓練模型\n",
        "epochs = 5\n",
        "model.train()\n",
        "for epoch in range(1, epochs+1):\n",
        "    train_loss = 0\n",
        "    for batch_idx, (data, _) in enumerate(train_loader):\n",
        "        data = data.to(device)\n",
        "        optimizer.zero_grad()\n",
        "        recon_batch, mu, logvar = model(data)\n",
        "        loss = loss_function(recon_batch, data, mu, logvar)\n",
        "        loss.backward()\n",
        "        train_loss += loss.item()\n",
        "        optimizer.step()\n",
        "    avg_loss = train_loss / len(train_loader.dataset)\n",
        "    print(f'Epoch {epoch}, Average loss: {avg_loss:.4f}')\n",
        "print(\"訓練完成！\")\n",
        "\n",
        "# 圖像顯示\n",
        "model.eval()\n",
        "with torch.no_grad():\n",
        "    test_samples = x_test[:8]\n",
        "    test_tensor = torch.tensor(test_samples).to(device)\n",
        "    recon_samples, _, _ = model(test_tensor)\n",
        "    recon_samples = recon_samples.cpu().numpy()\n",
        "\n",
        "fig, axes = plt.subplots(2, 8, figsize=(16,4), gridspec_kw={'height_ratios':[1,1]})\n",
        "# 上排：input 圖\n",
        "for i in range(8):\n",
        "    axes[0,i].imshow(test_samples[i].reshape(28,28), cmap='gray')\n",
        "    axes[0,0].set_title('input', fontsize=10)\n",
        "    axes[0,i].axis('off')\n",
        "\n",
        "# 下排：output 圖\n",
        "for i in range(8):\n",
        "    axes[1,i].imshow(recon_samples[i].reshape(28,28), cmap='gray')\n",
        "    axes[1,0].set_title('output', fontsize=10)\n",
        "    axes[1,i].axis('off')\n",
        "\n",
        "plt.tight_layout()\n",
        "plt.savefig('reconstruction.png')\n",
        "plt.show()\n",
        "\n",
        "\n",
        "print(\"已儲存重建圖檔 reconstruction.png\")"
      ],
      "metadata": {
        "colab": {
          "base_uri": "https://localhost:8080/",
          "height": 461
        },
        "id": "utmfsJvPxZ4O",
        "outputId": "f1ab12a3-a205-4e60-f3c2-8fc9efdd1bc3"
      },
      "execution_count": 20,
      "outputs": [
        {
          "output_type": "stream",
          "name": "stdout",
          "text": [
            "Epoch 1, Average loss: 163.1963\n",
            "Epoch 2, Average loss: 121.0383\n",
            "Epoch 3, Average loss: 114.2028\n",
            "Epoch 4, Average loss: 111.2818\n",
            "Epoch 5, Average loss: 109.5062\n",
            "訓練完成！\n"
          ]
        },
        {
          "output_type": "display_data",
          "data": {
            "text/plain": [
              "<Figure size 1600x400 with 16 Axes>"
            ],
            "image/png": "[encoded data removed]"
          },
          "metadata": {}
        },
        {
          "output_type": "stream",
          "name": "stdout",
          "text": [
            "已儲存重建圖檔 reconstruction.png\n"
          ]
        }
      ]
    },
    {
      "cell_type": "code",
      "source": [],
      "metadata": {
        "id": "5AdSPsRL3jmG"
      },
      "execution_count": null,
      "outputs": []
    }
  ]
}